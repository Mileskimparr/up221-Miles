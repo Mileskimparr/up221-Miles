{
 "cells": [
  {
   "cell_type": "markdown",
   "id": "ddddaca9-caa7-416c-8122-117124a2c8c7",
   "metadata": {},
   "source": [
    "# Looping to make a new map\n",
    "Unfortunately or fortunately, I am focusing on transportation barriers so the graph that I want to make revolves around driving distance which is just like the example in class. I will try to spice it up a little bit but the first buncha steps are going to be the same."
   ]
  },
  {
   "cell_type": "code",
   "execution_count": 1,
   "id": "5bf80fe8-c220-47fb-96a2-f986799e491b",
   "metadata": {},
   "outputs": [],
   "source": [
    "# for spatial data\n",
    "import geopandas as gpd\n",
    "\n",
    "# for plotting\n",
    "import matplotlib.pyplot as plt\n",
    "\n",
    "# for network analysis\n",
    "import networkx as nx\n",
    "\n",
    "# for street network analysis\n",
    "import osmnx as ox\n",
    "\n",
    "# for basemaps\n",
    "import contextily as ctx\n",
    "\n",
    "# for interactive webmaps\n",
    "import folium"
   ]
  },
  {
   "cell_type": "code",
   "execution_count": 2,
   "id": "8837d6ad-8e02-4fda-bc15-834a30e58732",
   "metadata": {},
   "outputs": [],
   "source": [
    "latlon = [33.9900961283353, -118.31828084304271] # Already Centered on the best park in District 2 according to our metrics: Van Ness Park\n",
    "network_type = 'drive' # Change network type because I am focusing on transportation\n",
    "trip_times = [5, 10, 15, 20] #in minutes, \n",
    "meters_per_minute = 670 # travel distance per minute for a car going 25 mph"
   ]
  },
  {
   "cell_type": "code",
   "execution_count": null,
   "id": "3c2c50fa-0360-449b-a19b-eef442ed4ea3",
   "metadata": {},
   "outputs": [],
   "source": [
    "G = ox.graph_from_point(latlon, network_type=network_type, dist = 4000) # expand bc im in a car"
   ]
  },
  {
   "cell_type": "code",
   "execution_count": null,
   "id": "1a48901f-e7f3-42f6-9ccd-1df34054fcf3",
   "metadata": {},
   "outputs": [],
   "source": [
    "G = ox.project_graph(G, to_crs='epsg:3857')"
   ]
  },
  {
   "cell_type": "code",
   "execution_count": null,
   "id": "bad43a1c-437c-4bda-8522-5b3f8ed28098",
   "metadata": {},
   "outputs": [],
   "source": [
    "gdf_nodes, gdf_edges = ox.graph_to_gdfs(G)"
   ]
  },
  {
   "cell_type": "code",
   "execution_count": null,
   "id": "2fc43890-e20a-4f2d-a04c-3c75b8622ab5",
   "metadata": {},
   "outputs": [],
   "source": [
    "# get the bounding box coordinates\n",
    "minx, miny, maxx, maxy = gdf_nodes.geometry.total_bounds\n",
    "print(minx)\n",
    "print(miny)\n",
    "print(maxx)\n",
    "print(maxy)"
   ]
  },
  {
   "cell_type": "code",
   "execution_count": null,
   "id": "7bd78b34-d740-41f7-9e11-81fed1ed666d",
   "metadata": {},
   "outputs": [],
   "source": [
    "# calculate the centroid\n",
    "centroid_x = (maxx-minx)/2 + minx\n",
    "centroid_y = (maxy-miny)/2 + miny\n",
    "print(centroid_x)\n",
    "print(centroid_y)"
   ]
  },
  {
   "cell_type": "code",
   "execution_count": null,
   "id": "eb296ecb-f0cd-464c-ac84-d8ab499283cf",
   "metadata": {},
   "outputs": [],
   "source": [
    "center_node = ox.distance.nearest_nodes(G,Y=centroid_y,X=centroid_x) # Defining this for later, just as the park center"
   ]
  },
  {
   "cell_type": "code",
   "execution_count": null,
   "id": "0f9886a8-6ea0-4568-84d2-f8a11957b0b2",
   "metadata": {},
   "outputs": [],
   "source": [
    "# set up the subplot (single plot = ax)\n",
    "fig, ax = plt.subplots(figsize=(10,10))\n",
    "\n",
    "# add the edges to ax\n",
    "gdf_edges.plot(ax=ax,\n",
    "               linewidth=0.5, # don't do more than 1\n",
    "               edgecolor='gray', # line color\n",
    "               zorder=10) #3D position (layers)\n",
    "\n",
    "# add all nodes to ax\n",
    "gdf_nodes.plot(ax=ax, \n",
    "               markersize=3, \n",
    "               zorder=20) #this is higher so goes over the lines\n",
    "\n",
    "# add the center node in red also to ax\n",
    "gdf_nodes.loc[[center_node]].plot(ax=ax,\n",
    "                                  color='r', \n",
    "                                  zorder=30) # top-most layers\n",
    "\n",
    "# no axis\n",
    "ax.axis('off')\n",
    "\n",
    "# add a basemap\n",
    "ctx.add_basemap(ax,source=ctx.providers.CartoDB.Positron,zoom=14)\n",
    "\n",
    "# post note: that worked out well because the centroid is focused on the parking lot entrance to the park, where drivers would access it. "
   ]
  },
  {
   "cell_type": "code",
   "execution_count": null,
   "id": "e12bb33f-5c4d-4d43-8175-15641df1367c",
   "metadata": {},
   "outputs": [],
   "source": [
    "gdf_edges['drive_time'] = gdf_edges['length']/meters_per_minute"
   ]
  },
  {
   "cell_type": "code",
   "execution_count": null,
   "id": "edb103b9-b56a-4065-8e76-fbcafe43b966",
   "metadata": {},
   "outputs": [],
   "source": [
    "gdf_edges[['osmid','name','highway','length','drive_time']].sample(15)"
   ]
  },
  {
   "cell_type": "markdown",
   "id": "1814b330-a379-44d1-9749-57a34253cfe5",
   "metadata": {},
   "source": [
    "## I get it now.\n",
    "It took me a while to understand this but I get it. The drive_time is a function of the length of the edges, not the time to get to the centroid. I have to say it again so I don't forget."
   ]
  },
  {
   "cell_type": "code",
   "execution_count": null,
   "id": "9818d19d-664f-4693-8b7f-d9d04727306d",
   "metadata": {},
   "outputs": [],
   "source": [
    "cmap = 'RdYlGn'"
   ]
  },
  {
   "cell_type": "code",
   "execution_count": null,
   "id": "ac1b1816-0bcf-4023-9252-296026b8ceae",
   "metadata": {},
   "outputs": [],
   "source": [
    "# assign a color hex code for each trip time isochrone\n",
    "iso_colors = ox.plot.get_colors(n=len(trip_times), \n",
    "                                cmap=cmap, \n",
    "                                start=0, \n",
    "                                return_hex=True)\n",
    "print(trip_times)\n",
    "print(iso_colors)"
   ]
  },
  {
   "cell_type": "code",
   "execution_count": null,
   "id": "69a81653-1c19-4f0e-a998-9baf91ff90fd",
   "metadata": {},
   "outputs": [],
   "source": [
    "time_color = list(zip(trip_times, iso_colors))\n",
    "time_color"
   ]
  },
  {
   "cell_type": "code",
   "execution_count": null,
   "id": "27989895-512e-4278-b18e-6684176869f8",
   "metadata": {},
   "outputs": [],
   "source": [
    "for time,color in list(time_color):\n",
    "    print('The color for a '+str(time)+' minute drive is ' + color) # change this a tiny bit for grammer"
   ]
  },
  {
   "cell_type": "code",
   "execution_count": null,
   "id": "ce25a88d-aa4d-4fb6-a2e0-acd779f800e4",
   "metadata": {},
   "outputs": [],
   "source": [
    "time_color.reverse()"
   ]
  },
  {
   "cell_type": "code",
   "execution_count": null,
   "id": "81416f0a-d1a3-4d80-a461-8192e2564f2b",
   "metadata": {},
   "outputs": [],
   "source": [
    "# loop through each trip time and associated color\n",
    "for time, color in list(time_color):\n",
    "\n",
    "    # for each trip time, create an egograph of nodes that fall within that distance\n",
    "    subgraph = nx.ego_graph(G, center_node, radius=time,distance='time') #centernode is the park, defined earlier \n",
    "\n",
    "    print('There are ' + str(len(subgraph.nodes())) + ' nodes within ' + str(time) + ' a minute drive ' + color)\n",
    "    \n",
    "    # for each of those nodes, update the gdf_nodes dataframe and assign it with its associated distance color\n",
    "    for node in subgraph.nodes():\n",
    "        gdf_nodes.loc[node,'time'] = time\n",
    "        gdf_nodes.loc[node,'color'] = color"
   ]
  },
  {
   "cell_type": "code",
   "execution_count": null,
   "id": "142aa452-5ead-48cf-b766-7081c15c5fd8",
   "metadata": {},
   "outputs": [],
   "source": [
    "gdf_nodes.sample(10)"
   ]
  },
  {
   "cell_type": "code",
   "execution_count": null,
   "id": "e0fe7fde-d917-495e-bfa5-486df7c9136f",
   "metadata": {},
   "outputs": [],
   "source": [
    "gdf_nodes['color'] = gdf_nodes['color'].replace('nan', '#cccccc')\n",
    "# replace all null values with grey, the blankest color"
   ]
  },
  {
   "cell_type": "code",
   "execution_count": null,
   "id": "3c233179-3311-4a7b-81fc-1bd6d2708b67",
   "metadata": {},
   "outputs": [],
   "source": [
    "isochrones = gdf_nodes.dissolve(by = \"time\")\n",
    "isochrones\n",
    "# make the polygons by the time intervals"
   ]
  },
  {
   "cell_type": "code",
   "execution_count": null,
   "id": "6dd4d64a-9347-4b59-9035-7efcac3d2925",
   "metadata": {},
   "outputs": [],
   "source": [
    "isochrones = isochrones.convex_hull.reset_index(name='geometry')\n",
    "isochrones\n",
    "# I honestly don't understand this step but it looks like it was to just keep 2 columns"
   ]
  },
  {
   "cell_type": "code",
   "execution_count": null,
   "id": "28d8ede6-7d3a-43f6-b920-d16df913d66f",
   "metadata": {},
   "outputs": [],
   "source": [
    "isochrones.sort_values(by='time', ascending=False,inplace=True)"
   ]
  },
  {
   "cell_type": "code",
   "execution_count": null,
   "id": "51dcee04-d18a-4565-9b46-d6ac9c83162c",
   "metadata": {},
   "outputs": [],
   "source": [
    "iso_colors.reverse()\n",
    "iso_colors"
   ]
  },
  {
   "cell_type": "markdown",
   "id": "b2324ac2-7803-47dd-9aa5-ab897bd25207",
   "metadata": {},
   "source": [
    "# Add in other datasets"
   ]
  },
  {
   "cell_type": "code",
   "execution_count": null,
   "id": "537493ba-f005-4356-9c7d-d2e33501cce9",
   "metadata": {},
   "outputs": [],
   "source": [
    "import pandas as pd \n",
    "import geopandas as gpd"
   ]
  },
  {
   "cell_type": "code",
   "execution_count": null,
   "id": "e57c773f-7148-4844-92b4-dac3877d5c6f",
   "metadata": {},
   "outputs": [],
   "source": [
    "Income = pd.read_excel(\n",
    "    'Data/Income-Data.xlsx',\n",
    "    dtype=\n",
    "    {\n",
    "        'GEO_ID':str,\n",
    "    }\n",
    ")\n",
    "Income = Income.drop([0])\n",
    "Income.info"
   ]
  },
  {
   "cell_type": "code",
   "execution_count": null,
   "id": "56cfbee0-ded4-403f-9050-911f5c75fdb1",
   "metadata": {},
   "outputs": [],
   "source": [
    "Tracts = gpd.read_file('Data/tl_2021_06_tract.zip')\n",
    "\n",
    "Tracts1 = Tracts[['GEOID','geometry']]\n",
    "Tracts1.columns = ['GEO_ID',\n",
    "'geometry']\n",
    "Tracts1.head()"
   ]
  },
  {
   "cell_type": "code",
   "execution_count": null,
   "id": "89978998-e158-4167-a7ae-be442a92bd96",
   "metadata": {},
   "outputs": [],
   "source": [
    "District2 = pd.read_excel('Data/District2.xlsx',\n",
    "    dtype =\n",
    "    {\n",
    "        'CT20':str,\n",
    "    }\n",
    ")\n",
    "District2['GEO_ID'] = '06' + '037' + District2['CT20']\n",
    "District2.head()"
   ]
  },
  {
   "cell_type": "code",
   "execution_count": null,
   "id": "b9fedb08-bcd8-4e3c-9f43-f41484f54454",
   "metadata": {},
   "outputs": [],
   "source": [
    "District2Tracts=Tracts1.merge(District2,on=\"GEO_ID\")\n",
    "District2Tracts.head()"
   ]
  },
  {
   "cell_type": "code",
   "execution_count": null,
   "id": "13c2da80-5ea9-4549-af10-d55399bf307b",
   "metadata": {},
   "outputs": [],
   "source": [
    "District2TractsGEO=District2Tracts.merge(Income,on=\"GEO_ID\")\n",
    "District2TractsGEO.head()"
   ]
  },
  {
   "cell_type": "code",
   "execution_count": null,
   "id": "9f524cc4-70fa-4272-aac1-686b0b915252",
   "metadata": {},
   "outputs": [],
   "source": [
    "VulnerableCar = pd.read_excel('Data/Transport.xlsx',\n",
    " dtype =\n",
    "    {\n",
    "        'TRACT':str,\n",
    "    }\n",
    ")\n",
    "VulnerableCar['GEO_ID'] = '06' + '037' + VulnerableCar['TRACT']\n",
    "VulnerableCar.head()"
   ]
  },
  {
   "cell_type": "code",
   "execution_count": null,
   "id": "b9545bae-0782-461b-9263-ac1577520459",
   "metadata": {},
   "outputs": [],
   "source": [
    "District2VulnerableCar=District2TractsGEO.merge(VulnerableCar,on=\"GEO_ID\")\n",
    "District2VulnerableCar.info()"
   ]
  },
  {
   "cell_type": "code",
   "execution_count": null,
   "id": "638f4e3c-f6de-4bf9-b49a-baa00ce2427b",
   "metadata": {},
   "outputs": [],
   "source": [
    "m = folium.Map(location=latlon,zoom_start=13, tiles='Cartodb Positron')\n",
    "\n",
    "folium.Choropleth(\n",
    "    geo_data=District2VulnerableCar,\n",
    "    data=District2VulnerableCar,\n",
    "    key_on='feature.properties.GEO_ID',\n",
    "    columns=['GEO_ID','D2_Transp'],\n",
    "    fill_color='RdBu_r',\n",
    "    line_weight=0.1, \n",
    "    fill_opacity=0.7,\n",
    "    line_opacity=0.2).add_to(m)  \n",
    "\n",
    "isochrones.explore(m=m,column='time',color=iso_colors, fill_opacity=0.3, cmap=cmap,categorical=True)\n",
    "\n",
    "title_html = '<h3 align=\"center\" style=\"font-size:20px\"><b>Transportation Barriers overlayed with a 15 Minute Walkshed in District 2</b></h3>'\n",
    "m.get_root().html.add_child(folium.Element(title_html))\n",
    "\n",
    "m"
   ]
  },
  {
   "cell_type": "code",
   "execution_count": null,
   "id": "c6e61d26-e012-4743-aa80-fb5f7972afc1",
   "metadata": {},
   "outputs": [],
   "source": []
  }
 ],
 "metadata": {
  "kernelspec": {
   "display_name": "Python 3 (ipykernel)",
   "language": "python",
   "name": "python3"
  },
  "language_info": {
   "codemirror_mode": {
    "name": "ipython",
    "version": 3
   },
   "file_extension": ".py",
   "mimetype": "text/x-python",
   "name": "python",
   "nbconvert_exporter": "python",
   "pygments_lexer": "ipython3",
   "version": "3.11.7"
  }
 },
 "nbformat": 4,
 "nbformat_minor": 5
}
