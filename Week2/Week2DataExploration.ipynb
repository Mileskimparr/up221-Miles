{
 "cells": [
  {
   "cell_type": "markdown",
   "id": "8814bcb3-bf2f-400b-ad32-16e2d928099b",
   "metadata": {},
   "source": [
    "# Week 2 Assignment"
   ]
  },
  {
   "cell_type": "markdown",
   "id": "3a9ac6ef-8893-4db1-a371-ce2648ba3979",
   "metadata": {},
   "source": [
    "## Data Exploration"
   ]
  },
  {
   "cell_type": "code",
   "execution_count": 5,
   "id": "b0a2c5ca-9684-499c-a134-009edaca9228",
   "metadata": {},
   "outputs": [],
   "source": [
    "# importing python libraries\n",
    "import pandas as pd\n",
    "import geopandas as gpd"
   ]
  }
 ],
 "metadata": {
  "kernelspec": {
   "display_name": "Python 3 (ipykernel)",
   "language": "python",
   "name": "python3"
  },
  "language_info": {
   "codemirror_mode": {
    "name": "ipython",
    "version": 3
   },
   "file_extension": ".py",
   "mimetype": "text/x-python",
   "name": "python",
   "nbconvert_exporter": "python",
   "pygments_lexer": "ipython3",
   "version": "3.11.7"
  }
 },
 "nbformat": 4,
 "nbformat_minor": 5
}
