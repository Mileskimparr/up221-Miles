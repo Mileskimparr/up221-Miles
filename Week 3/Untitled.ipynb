{
 "cells": [
  {
   "cell_type": "markdown",
   "id": "640ebe56-bd50-4b25-8503-dbbbae0c3220",
   "metadata": {},
   "source": [
    "# Potential Research Question\n",
    "The potential research question that our group (Miles Kim Parr, Max Garcia, Aydin Pasebani, Annie Chan, and Rodrigo Gutierrez) is interested in pursuing is “What is the correlation between access to parks and green space in [unincorporated LA County](https://pw.lacounty.gov/gmed/lacroads/FindUnincorporated.aspx) and community health?”   \n",
    "\n",
    "# Why it is important\n",
    "This topic is important to us because everyone, no matter where they are geographically located, should be able to live their lives in full health. There are significant disparities in parks and open space across Los Angeles County. Areas with limited park space per capita tend to exhibit higher rates of premature mortality from cardiovascular disease and diabetes, increased risk of childhood obesity, and higher chances of economic hardship ([LA County Department of Public Health](http://publichealth.lacounty.gov/chronic/docs/Parks%20Report%202016-rev_051816.pdf)). There’s also stark differences in park availability for certain racial and ethnic groups, with African Americans and Latinos disproportionately impacted. With our findings, we hope to suggest recommendations to address the large inequities in park spaces across unincorporated communities in Los Angeles County. \n",
    "\n",
    "# Why space matters\n",
    "For the spatial scope of our project, we are planning on examining unincorporated areas of LA County, each within a different Supervisorial District (District 1-5). Space matters because more than 65% of LA County is unincorporated, with a large concentration in the northern part of the County. Unincorporated areas lack local governments, which means the five-member Board of Supervisors [functions as their “city council”](https://lacounty.gov/government/about-la-county/maps-and-geography/) and each Supervisor serves all the unincorporated areas (and cities) in their respective districts. \n",
    "\n",
    "In our [preliminary literature review](https://www.sciencedirect.com/science/article/pii/S0277953621006249), some researchers have questioned whether counties are able to deliver adequate air and water quality services to the same extent that cities are able to. They noted that **“local government is an established structural determinant of health,”** leading us to question whether people living in unincorporated areas are more vulnerable to adverse health outcomes.\n",
    "​​\n",
    "Using the LA Census Tracts Viewer by 2020 Supervisorial District, the unincorporated areas of LA County by district include:\n",
    "\n",
    "\n",
    "**District 1:** Avocado Heights, Charter Oak, Covina Islands, East Irwindale, East LA, East Pasadena/East San Gabriel, Hacienda Heights, Rowland Heights, South Diamond Bar, South San Gabriel, South San Jose Hills, Valinda, Walnut Islands, West Puente Valley, Whittier Narrows\n",
    "\n",
    "**District 2:** Athens, Baldwin Hills, Del Aire, Del Rey, East Rancho Dominguez, East Gardena, El Camino Village, Rancho Dominguez , Walnut Park, West Rancho Domínguez, Florence Firestone, Ladera Heights, Lennox, Marina Del Rey, View Park, Windsor Hills, West Carson, Willowbrook, Wiseburn\n",
    "\n",
    "**District 3:** West Chatsworth, Santa Monica Mountains North Area, Santa Monica Mountains Coastal Zone, and West Los Angeles (Sawtelle VA)\n",
    "\n",
    "**District 4:** North Whittier, West Whittier, South Whittier, Walnut Park, Santa Catalina Island, La Rambla\n",
    "\n",
    "**District 5:** Altadena, Antelope Valley, Charter Oak, East Pasadena/East San Gabriel, Kagel/Lopez Canyons, Kinneloa Mesa, La Crescenta/Montrose, Oat Mountain, San Pasqual, Santa Clarita Valley, South Monrovia Islands, Universal City\n",
    "\n",
    "# Data sources\n",
    "Two potential data sources we’re considering delving into are _______:\n",
    "\n",
    "[LA Metro Strategic Plan](https://libraryarchives.metro.net/dpgtl/publications/2019-transit-to-parks-strategic-plan.pdf)\n",
    "[Similar study in LA](https://www.tandfonline.com/doi/epdf/10.1080/07352166.2017.1360740?needAccess=true\n",
    ")\n",
    "[Unincorporated LA Boundaries](https://data.lacounty.gov/maps/lacounty::la-county-unincorporated-boundaries/about)\n",
    "\n",
    "[LA County Census Tracts Viewer by Supervisorial District (2020)](https://www.arcgis.com/apps/dashboards/e928d021b4d74e5ab4537fac43a3eaf5) \n",
    "\n",
    "[County of LA - Countywide Open Parks and Space](https://egis-lacounty.hub.arcgis.com/datasets/lacounty::countywide-parks-and-open-space-public-hosted/about)\n",
    "\n",
    "[Metro: Transportation Equity Need 2022](https://lametro.maps.arcgis.com/apps/mapviewer/index.html?layers=0b45ad0fef0549dd934df66cbea56524)\n",
    "\n",
    "[Vehicle Ownership data by Census Tract](https://la.myneighborhooddata.org/2021/06/vehicle-ownership/)\n",
    "\n",
    "[Race data in LA County](https://data.census.gov/table/DECENNIALPL2020.P1?g=050XX00US06037$1400000)\n",
    "\n",
    "\n",
    "# Visual Flow Chart of Intended Analysis and Resulting Visualizations\n",
    "(Click on image to zoom, if needed)\n",
    "[![FInal-Flow-Chart.png](https://i.postimg.cc/6pw2t9Tb/FInal-Flow-Chart.png)](https://postimg.cc/YhnqxB6Q)\n",
    "\n",
    "\n",
    "# Conclusion\n",
    "\n",
    "We hope to gain insight into who has access to green space in unincorporated LA County. At this juncture (before we have started any analysis), our hypothesis is that access to green space will vary based on the average income of the neighborhood, in that higher-income areas will have more access to green space."
   ]
  },
  {
   "cell_type": "markdown",
   "id": "5c81b41d-4ddf-4712-bdf7-1424d0288db5",
   "metadata": {},
   "source": []
  }
 ],
 "metadata": {
  "kernelspec": {
   "display_name": "Python 3 (ipykernel)",
   "language": "python",
   "name": "python3"
  },
  "language_info": {
   "codemirror_mode": {
    "name": "ipython",
    "version": 3
   },
   "file_extension": ".py",
   "mimetype": "text/x-python",
   "name": "python",
   "nbconvert_exporter": "python",
   "pygments_lexer": "ipython3",
   "version": "3.11.7"
  }
 },
 "nbformat": 4,
 "nbformat_minor": 5
}
